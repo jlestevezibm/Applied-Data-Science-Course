{
 "cells": [
  {
   "attachments": {},
   "cell_type": "markdown",
   "metadata": {},
   "source": [
    "<h1>The Battle of the Neighborhoods - Week 1 Part 2</h1>\n",
    "\n",
    "\n",
    "<h3>Data :</h3>\n",
    "\n",
    "<h6>One city will be analysed in this project : Vigo.</h6>\n",
    "\n",
    "<h6>We will be using the below datasets for analysing Vigo</h6>\n",
    "\n",
    "<p>Data 1 : The neighborhood has a total of 27 postal codes. We will separate the data into postal codes to analyze them, essentially we will need a set of data containing the 27 postal codes as well as the coordinates of each one.</p>\n",
    "\n",
    "<p>This dataset exists for free on the web. Link to the dataset is :</p>\n",
    "\n",
    "http://distritopostal.es/pontevedra/vigo\n",
    "\n",
    "<p>Data 2 : We will use the list of all the pet hairdressers that currently exist in Vigo, for which we will need your data, especially your location. We will extract these data from:</p>\n",
    "\n",
    "https://www.paxinasgalegas.es/resultados.aspx?tipo=2&ncom=&aynom=vigo&cllnom=&epinom=peluquer%C3%ADas%20caninas&epi=407&ay=310&prov=&pagina=0\n",
    "\n",
    "<p>Data 3 : For the below analysis we will get data from wikipedia as given below :</p>\n",
    "\n",
    "    Vigo Population\n",
    "    Vigo Demographics\n",
    "    \n",
    "https://es.wikipedia.org/wiki/Vigo#Poblaci%C3%B3n\n",
    "https://es.wikipedia.org/wiki/Vigo#Demograf%C3%ADa\n",
    "\n",
    "\n",
    "Data 4 : Once the data is extracted we will have a dataset as the next one with which we will work to do the analysis.\n",
    "\n",
    "![title](images/df.png)\n"
   ]
  },
  {
   "cell_type": "code",
   "execution_count": null,
   "metadata": {},
   "outputs": [],
   "source": []
  },
  {
   "cell_type": "code",
   "execution_count": null,
   "metadata": {},
   "outputs": [],
   "source": []
  },
  {
   "cell_type": "code",
   "execution_count": null,
   "metadata": {},
   "outputs": [],
   "source": []
  },
  {
   "cell_type": "code",
   "execution_count": null,
   "metadata": {},
   "outputs": [],
   "source": []
  },
  {
   "cell_type": "code",
   "execution_count": null,
   "metadata": {},
   "outputs": [],
   "source": []
  },
  {
   "cell_type": "code",
   "execution_count": null,
   "metadata": {},
   "outputs": [],
   "source": []
  },
  {
   "attachments": {},
   "cell_type": "markdown",
   "metadata": {},
   "source": []
  },
  {
   "cell_type": "code",
   "execution_count": null,
   "metadata": {},
   "outputs": [],
   "source": []
  },
  {
   "cell_type": "code",
   "execution_count": null,
   "metadata": {},
   "outputs": [],
   "source": []
  },
  {
   "cell_type": "code",
   "execution_count": null,
   "metadata": {},
   "outputs": [],
   "source": []
  },
  {
   "cell_type": "code",
   "execution_count": null,
   "metadata": {},
   "outputs": [],
   "source": []
  },
  {
   "cell_type": "code",
   "execution_count": null,
   "metadata": {},
   "outputs": [],
   "source": []
  },
  {
   "cell_type": "code",
   "execution_count": null,
   "metadata": {},
   "outputs": [],
   "source": []
  },
  {
   "cell_type": "code",
   "execution_count": null,
   "metadata": {},
   "outputs": [],
   "source": []
  },
  {
   "cell_type": "code",
   "execution_count": null,
   "metadata": {},
   "outputs": [],
   "source": []
  },
  {
   "cell_type": "code",
   "execution_count": null,
   "metadata": {},
   "outputs": [],
   "source": []
  },
  {
   "cell_type": "code",
   "execution_count": null,
   "metadata": {},
   "outputs": [],
   "source": []
  },
  {
   "cell_type": "code",
   "execution_count": null,
   "metadata": {},
   "outputs": [],
   "source": []
  },
  {
   "cell_type": "code",
   "execution_count": null,
   "metadata": {},
   "outputs": [],
   "source": []
  },
  {
   "cell_type": "code",
   "execution_count": null,
   "metadata": {},
   "outputs": [],
   "source": []
  },
  {
   "cell_type": "code",
   "execution_count": null,
   "metadata": {},
   "outputs": [],
   "source": []
  },
  {
   "cell_type": "code",
   "execution_count": null,
   "metadata": {},
   "outputs": [],
   "source": []
  },
  {
   "cell_type": "code",
   "execution_count": null,
   "metadata": {},
   "outputs": [],
   "source": []
  }
 ],
 "metadata": {
  "kernelspec": {
   "display_name": "Python 3",
   "language": "python",
   "name": "python3"
  },
  "language_info": {
   "codemirror_mode": {
    "name": "ipython",
    "version": 3
   },
   "file_extension": ".py",
   "mimetype": "text/x-python",
   "name": "python",
   "nbconvert_exporter": "python",
   "pygments_lexer": "ipython3",
   "version": "3.7.4"
  }
 },
 "nbformat": 4,
 "nbformat_minor": 2
}
