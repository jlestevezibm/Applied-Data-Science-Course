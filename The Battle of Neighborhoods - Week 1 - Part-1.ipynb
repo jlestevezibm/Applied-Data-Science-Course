{
 "cells": [
  {
   "cell_type": "markdown",
   "metadata": {},
   "source": [
    "<h1>The Battle of the Neighborhoods - Week 1</h1>\n",
    "<h2>Introduction & Business Problem :</h2>\n",
    "<h3>Problem Background:</h3>\n",
    "\n",
    "<p>The City of Vigo, is the most populous city in Norwest of Spain. It is the financial and industrial capital of Norwest. in 2020 have a 500k population and provides lot of business oppourtunities. It has attracted many different players into the market. It is a global hub of business and commerce. The city is a major center business from the area, tourism, etc.</p>\n",
    "\n",
    "<p>This means that the market is very competitive. The cost of doing business is one of the highest in the northwest of Spain. Therefore, any new business or commercial expansion must be carefully analyzed. The knowledge derived from the analysis will provide a good understanding of the business environment that will help to strategically target the market. This will help in risk reduction. And the return on investment will be reasonable. </p>\n",
    "\n",
    "<h3>Problem Description:</h3>\n",
    "\n",
    "<p>A pet grooming is a booming business, every day more people care about the appearance and care of their pet and invest more money in it.\n",
    "</p>\n",
    "    \n",
    "<p>So it is evident that to survive in such competitive market it is very important to strategically plan. Various factors need to be studied in order to decide on the Location such as: </p>\n",
    "\n",
    " <h6>- Vigo Population</h6>\n",
    " <h6>- Vigo Demographics</h6>\n",
    " <h6>- Competitors in same location</h6>\n",
    " <h6>- Services of the competitors</h6>\n",
    " <h6>- Segmentation of the Borough</h6>\n",
    "\n",
    "<br>\n",
    "\n",
    "<h3>Target Audience:</h3>\n",
    "\n",
    "<p>To recommend the correct location we will use Data Science. The objective is to locate and recommend what location in the city of Vigo will be the best option to start a pet grooming salon.</p>\n",
    "\n",
    "<h3>Success Criteria:</h3>\n",
    "\n",
    "<p> The criterion of success of the project will depend on a good recommendation in the choice of the location based on the lack of competition and the amount of potential clients in the area </p>"
   ]
  },
  {
   "cell_type": "code",
   "execution_count": null,
   "metadata": {},
   "outputs": [],
   "source": []
  },
  {
   "cell_type": "code",
   "execution_count": null,
   "metadata": {},
   "outputs": [],
   "source": []
  },
  {
   "cell_type": "code",
   "execution_count": null,
   "metadata": {},
   "outputs": [],
   "source": []
  },
  {
   "cell_type": "code",
   "execution_count": null,
   "metadata": {},
   "outputs": [],
   "source": []
  },
  {
   "cell_type": "code",
   "execution_count": null,
   "metadata": {},
   "outputs": [],
   "source": []
  },
  {
   "cell_type": "code",
   "execution_count": null,
   "metadata": {},
   "outputs": [],
   "source": []
  },
  {
   "cell_type": "code",
   "execution_count": null,
   "metadata": {},
   "outputs": [],
   "source": []
  },
  {
   "cell_type": "code",
   "execution_count": null,
   "metadata": {},
   "outputs": [],
   "source": []
  },
  {
   "cell_type": "code",
   "execution_count": null,
   "metadata": {},
   "outputs": [],
   "source": []
  }
 ],
 "metadata": {
  "kernelspec": {
   "display_name": "Python 3",
   "language": "python",
   "name": "python3"
  },
  "language_info": {
   "codemirror_mode": {
    "name": "ipython",
    "version": 3
   },
   "file_extension": ".py",
   "mimetype": "text/x-python",
   "name": "python",
   "nbconvert_exporter": "python",
   "pygments_lexer": "ipython3",
   "version": "3.7.4"
  }
 },
 "nbformat": 4,
 "nbformat_minor": 2
}
