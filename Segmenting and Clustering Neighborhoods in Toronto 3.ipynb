{
 "cells": [
  {
   "cell_type": "code",
   "execution_count": 26,
   "metadata": {},
   "outputs": [],
   "source": [
    "import requests\n",
    "import pandas as pd\n",
    "from bs4 import BeautifulSoup"
   ]
  },
  {
   "cell_type": "code",
   "execution_count": 27,
   "metadata": {},
   "outputs": [],
   "source": [
    "source = requests.get(\"https://en.wikipedia.org/wiki/List_of_postal_codes_of_Canada:_M\").text"
   ]
  },
  {
   "cell_type": "code",
   "execution_count": 28,
   "metadata": {},
   "outputs": [],
   "source": [
    "sopa = BeautifulSoup(source, 'xml')"
   ]
  },
  {
   "cell_type": "code",
   "execution_count": 29,
   "metadata": {},
   "outputs": [],
   "source": [
    "tabla=sopa.find('table')"
   ]
  },
  {
   "cell_type": "code",
   "execution_count": 30,
   "metadata": {},
   "outputs": [],
   "source": [
    "df = pd.DataFrame(columns = ['Postalcode','Borough','Neighborhood'])"
   ]
  },
  {
   "cell_type": "code",
   "execution_count": 31,
   "metadata": {},
   "outputs": [],
   "source": [
    "for cell in tabla.find_all('tr'):\n",
    "    row=[]\n",
    "    for cell in cell.find_all('td'):\n",
    "        row.append(cell.text.strip())\n",
    "    if len(row)==3:\n",
    "        df.loc[len(df)] = row\n",
    "\n"
   ]
  },
  {
   "cell_type": "code",
   "execution_count": 32,
   "metadata": {},
   "outputs": [
    {
     "data": {
      "text/html": [
       "<div>\n",
       "<style scoped>\n",
       "    .dataframe tbody tr th:only-of-type {\n",
       "        vertical-align: middle;\n",
       "    }\n",
       "\n",
       "    .dataframe tbody tr th {\n",
       "        vertical-align: top;\n",
       "    }\n",
       "\n",
       "    .dataframe thead th {\n",
       "        text-align: right;\n",
       "    }\n",
       "</style>\n",
       "<table border=\"1\" class=\"dataframe\">\n",
       "  <thead>\n",
       "    <tr style=\"text-align: right;\">\n",
       "      <th></th>\n",
       "      <th>Postalcode</th>\n",
       "      <th>Borough</th>\n",
       "      <th>Neighborhood</th>\n",
       "    </tr>\n",
       "  </thead>\n",
       "  <tbody>\n",
       "    <tr>\n",
       "      <td>0</td>\n",
       "      <td>M1A</td>\n",
       "      <td>Not assigned</td>\n",
       "      <td>Not assigned</td>\n",
       "    </tr>\n",
       "    <tr>\n",
       "      <td>1</td>\n",
       "      <td>M2A</td>\n",
       "      <td>Not assigned</td>\n",
       "      <td>Not assigned</td>\n",
       "    </tr>\n",
       "    <tr>\n",
       "      <td>2</td>\n",
       "      <td>M3A</td>\n",
       "      <td>North York</td>\n",
       "      <td>Parkwoods</td>\n",
       "    </tr>\n",
       "    <tr>\n",
       "      <td>3</td>\n",
       "      <td>M4A</td>\n",
       "      <td>North York</td>\n",
       "      <td>Victoria Village</td>\n",
       "    </tr>\n",
       "    <tr>\n",
       "      <td>4</td>\n",
       "      <td>M5A</td>\n",
       "      <td>Downtown Toronto</td>\n",
       "      <td>Harbourfront</td>\n",
       "    </tr>\n",
       "  </tbody>\n",
       "</table>\n",
       "</div>"
      ],
      "text/plain": [
       "  Postalcode           Borough      Neighborhood\n",
       "0        M1A      Not assigned      Not assigned\n",
       "1        M2A      Not assigned      Not assigned\n",
       "2        M3A        North York         Parkwoods\n",
       "3        M4A        North York  Victoria Village\n",
       "4        M5A  Downtown Toronto      Harbourfront"
      ]
     },
     "execution_count": 32,
     "metadata": {},
     "output_type": "execute_result"
    }
   ],
   "source": [
    "df.head()"
   ]
  },
  {
   "cell_type": "code",
   "execution_count": 33,
   "metadata": {},
   "outputs": [],
   "source": [
    "df=df[df['Borough']!='Not assigned']"
   ]
  },
  {
   "cell_type": "code",
   "execution_count": 34,
   "metadata": {},
   "outputs": [],
   "source": [
    "df[df['Neighborhood']=='Not assigned']=df['Borough']"
   ]
  },
  {
   "cell_type": "code",
   "execution_count": 36,
   "metadata": {},
   "outputs": [
    {
     "data": {
      "text/html": [
       "<div>\n",
       "<style scoped>\n",
       "    .dataframe tbody tr th:only-of-type {\n",
       "        vertical-align: middle;\n",
       "    }\n",
       "\n",
       "    .dataframe tbody tr th {\n",
       "        vertical-align: top;\n",
       "    }\n",
       "\n",
       "    .dataframe thead th {\n",
       "        text-align: right;\n",
       "    }\n",
       "</style>\n",
       "<table border=\"1\" class=\"dataframe\">\n",
       "  <thead>\n",
       "    <tr style=\"text-align: right;\">\n",
       "      <th></th>\n",
       "      <th>Postalcode</th>\n",
       "      <th>Borough</th>\n",
       "      <th>Neighborhood</th>\n",
       "    </tr>\n",
       "  </thead>\n",
       "  <tbody>\n",
       "    <tr>\n",
       "      <td>2</td>\n",
       "      <td>M3A</td>\n",
       "      <td>North York</td>\n",
       "      <td>Parkwoods</td>\n",
       "    </tr>\n",
       "    <tr>\n",
       "      <td>3</td>\n",
       "      <td>M4A</td>\n",
       "      <td>North York</td>\n",
       "      <td>Victoria Village</td>\n",
       "    </tr>\n",
       "    <tr>\n",
       "      <td>4</td>\n",
       "      <td>M5A</td>\n",
       "      <td>Downtown Toronto</td>\n",
       "      <td>Harbourfront</td>\n",
       "    </tr>\n",
       "    <tr>\n",
       "      <td>5</td>\n",
       "      <td>M6A</td>\n",
       "      <td>North York</td>\n",
       "      <td>Lawrence Heights</td>\n",
       "    </tr>\n",
       "    <tr>\n",
       "      <td>6</td>\n",
       "      <td>M6A</td>\n",
       "      <td>North York</td>\n",
       "      <td>Lawrence Manor</td>\n",
       "    </tr>\n",
       "  </tbody>\n",
       "</table>\n",
       "</div>"
      ],
      "text/plain": [
       "  Postalcode           Borough      Neighborhood\n",
       "2        M3A        North York         Parkwoods\n",
       "3        M4A        North York  Victoria Village\n",
       "4        M5A  Downtown Toronto      Harbourfront\n",
       "5        M6A        North York  Lawrence Heights\n",
       "6        M6A        North York    Lawrence Manor"
      ]
     },
     "execution_count": 36,
     "metadata": {},
     "output_type": "execute_result"
    }
   ],
   "source": [
    "df.head()"
   ]
  },
  {
   "cell_type": "code",
   "execution_count": 37,
   "metadata": {},
   "outputs": [],
   "source": [
    "df2=df.groupby('Postalcode')['Neighborhood'].apply(lambda x: \"%s\" % ', '.join(x))\n",
    "df2=df2.reset_index(drop=False)\n",
    "df2.rename(columns={'Neighborhood':'Neighborhood_joined'},inplace=True)\n",
    "\n"
   ]
  },
  {
   "cell_type": "code",
   "execution_count": 39,
   "metadata": {},
   "outputs": [],
   "source": [
    "df3 = pd.merge(df, df2, on='Postalcode')"
   ]
  },
  {
   "cell_type": "code",
   "execution_count": 40,
   "metadata": {},
   "outputs": [],
   "source": [
    "df3.drop(['Neighborhood'],axis=1,inplace=True)"
   ]
  },
  {
   "cell_type": "code",
   "execution_count": 41,
   "metadata": {},
   "outputs": [],
   "source": [
    "df3.drop_duplicates(inplace=True)"
   ]
  },
  {
   "cell_type": "code",
   "execution_count": 42,
   "metadata": {},
   "outputs": [],
   "source": [
    "df3.rename(columns={'Neighborhood_joined':'Neighborhood'},inplace=True)"
   ]
  },
  {
   "cell_type": "code",
   "execution_count": 43,
   "metadata": {},
   "outputs": [
    {
     "data": {
      "text/html": [
       "<div>\n",
       "<style scoped>\n",
       "    .dataframe tbody tr th:only-of-type {\n",
       "        vertical-align: middle;\n",
       "    }\n",
       "\n",
       "    .dataframe tbody tr th {\n",
       "        vertical-align: top;\n",
       "    }\n",
       "\n",
       "    .dataframe thead th {\n",
       "        text-align: right;\n",
       "    }\n",
       "</style>\n",
       "<table border=\"1\" class=\"dataframe\">\n",
       "  <thead>\n",
       "    <tr style=\"text-align: right;\">\n",
       "      <th></th>\n",
       "      <th>Postalcode</th>\n",
       "      <th>Borough</th>\n",
       "      <th>Neighborhood</th>\n",
       "    </tr>\n",
       "  </thead>\n",
       "  <tbody>\n",
       "    <tr>\n",
       "      <td>0</td>\n",
       "      <td>M3A</td>\n",
       "      <td>North York</td>\n",
       "      <td>Parkwoods</td>\n",
       "    </tr>\n",
       "    <tr>\n",
       "      <td>1</td>\n",
       "      <td>M4A</td>\n",
       "      <td>North York</td>\n",
       "      <td>Victoria Village</td>\n",
       "    </tr>\n",
       "    <tr>\n",
       "      <td>2</td>\n",
       "      <td>M5A</td>\n",
       "      <td>Downtown Toronto</td>\n",
       "      <td>Harbourfront</td>\n",
       "    </tr>\n",
       "    <tr>\n",
       "      <td>3</td>\n",
       "      <td>M6A</td>\n",
       "      <td>North York</td>\n",
       "      <td>Lawrence Heights, Lawrence Manor</td>\n",
       "    </tr>\n",
       "    <tr>\n",
       "      <td>5</td>\n",
       "      <td>M7A</td>\n",
       "      <td>Downtown Toronto</td>\n",
       "      <td>Queen's Park</td>\n",
       "    </tr>\n",
       "  </tbody>\n",
       "</table>\n",
       "</div>"
      ],
      "text/plain": [
       "  Postalcode           Borough                      Neighborhood\n",
       "0        M3A        North York                         Parkwoods\n",
       "1        M4A        North York                  Victoria Village\n",
       "2        M5A  Downtown Toronto                      Harbourfront\n",
       "3        M6A        North York  Lawrence Heights, Lawrence Manor\n",
       "5        M7A  Downtown Toronto                      Queen's Park"
      ]
     },
     "execution_count": 43,
     "metadata": {},
     "output_type": "execute_result"
    }
   ],
   "source": [
    "df3.head()"
   ]
  },
  {
   "cell_type": "code",
   "execution_count": 44,
   "metadata": {},
   "outputs": [
    {
     "data": {
      "text/plain": [
       "(103, 3)"
      ]
     },
     "execution_count": 44,
     "metadata": {},
     "output_type": "execute_result"
    }
   ],
   "source": [
    "df3.shape"
   ]
  },
  {
   "cell_type": "code",
   "execution_count": 57,
   "metadata": {},
   "outputs": [],
   "source": [
    "dfgeo = pd.read_csv('Geospatial_Coordinates_toronto.csv')"
   ]
  },
  {
   "cell_type": "code",
   "execution_count": 58,
   "metadata": {},
   "outputs": [],
   "source": [
    "dfgeo.columns = ['Postalcode','Latitude','Longitude']"
   ]
  },
  {
   "cell_type": "code",
   "execution_count": 59,
   "metadata": {},
   "outputs": [
    {
     "data": {
      "text/html": [
       "<div>\n",
       "<style scoped>\n",
       "    .dataframe tbody tr th:only-of-type {\n",
       "        vertical-align: middle;\n",
       "    }\n",
       "\n",
       "    .dataframe tbody tr th {\n",
       "        vertical-align: top;\n",
       "    }\n",
       "\n",
       "    .dataframe thead th {\n",
       "        text-align: right;\n",
       "    }\n",
       "</style>\n",
       "<table border=\"1\" class=\"dataframe\">\n",
       "  <thead>\n",
       "    <tr style=\"text-align: right;\">\n",
       "      <th></th>\n",
       "      <th>Postalcode</th>\n",
       "      <th>Latitude</th>\n",
       "      <th>Longitude</th>\n",
       "    </tr>\n",
       "  </thead>\n",
       "  <tbody>\n",
       "    <tr>\n",
       "      <td>0</td>\n",
       "      <td>M1B</td>\n",
       "      <td>43.806686</td>\n",
       "      <td>-79.194353</td>\n",
       "    </tr>\n",
       "    <tr>\n",
       "      <td>1</td>\n",
       "      <td>M1C</td>\n",
       "      <td>43.784535</td>\n",
       "      <td>-79.160497</td>\n",
       "    </tr>\n",
       "    <tr>\n",
       "      <td>2</td>\n",
       "      <td>M1E</td>\n",
       "      <td>43.763573</td>\n",
       "      <td>-79.188711</td>\n",
       "    </tr>\n",
       "    <tr>\n",
       "      <td>3</td>\n",
       "      <td>M1G</td>\n",
       "      <td>43.770992</td>\n",
       "      <td>-79.216917</td>\n",
       "    </tr>\n",
       "    <tr>\n",
       "      <td>4</td>\n",
       "      <td>M1H</td>\n",
       "      <td>43.773136</td>\n",
       "      <td>-79.239476</td>\n",
       "    </tr>\n",
       "  </tbody>\n",
       "</table>\n",
       "</div>"
      ],
      "text/plain": [
       "  Postalcode   Latitude  Longitude\n",
       "0        M1B  43.806686 -79.194353\n",
       "1        M1C  43.784535 -79.160497\n",
       "2        M1E  43.763573 -79.188711\n",
       "3        M1G  43.770992 -79.216917\n",
       "4        M1H  43.773136 -79.239476"
      ]
     },
     "execution_count": 59,
     "metadata": {},
     "output_type": "execute_result"
    }
   ],
   "source": [
    "dfgeo.head()"
   ]
  },
  {
   "cell_type": "code",
   "execution_count": 61,
   "metadata": {},
   "outputs": [],
   "source": [
    "dfnew = pd.merge(df3,dfgeo[['Postalcode','Latitude', 'Longitude']],on='Postalcode')"
   ]
  },
  {
   "cell_type": "code",
   "execution_count": 62,
   "metadata": {},
   "outputs": [
    {
     "data": {
      "text/html": [
       "<div>\n",
       "<style scoped>\n",
       "    .dataframe tbody tr th:only-of-type {\n",
       "        vertical-align: middle;\n",
       "    }\n",
       "\n",
       "    .dataframe tbody tr th {\n",
       "        vertical-align: top;\n",
       "    }\n",
       "\n",
       "    .dataframe thead th {\n",
       "        text-align: right;\n",
       "    }\n",
       "</style>\n",
       "<table border=\"1\" class=\"dataframe\">\n",
       "  <thead>\n",
       "    <tr style=\"text-align: right;\">\n",
       "      <th></th>\n",
       "      <th>Postalcode</th>\n",
       "      <th>Borough</th>\n",
       "      <th>Neighborhood</th>\n",
       "      <th>Latitude</th>\n",
       "      <th>Longitude</th>\n",
       "    </tr>\n",
       "  </thead>\n",
       "  <tbody>\n",
       "    <tr>\n",
       "      <td>0</td>\n",
       "      <td>M3A</td>\n",
       "      <td>North York</td>\n",
       "      <td>Parkwoods</td>\n",
       "      <td>43.753259</td>\n",
       "      <td>-79.329656</td>\n",
       "    </tr>\n",
       "    <tr>\n",
       "      <td>1</td>\n",
       "      <td>M4A</td>\n",
       "      <td>North York</td>\n",
       "      <td>Victoria Village</td>\n",
       "      <td>43.725882</td>\n",
       "      <td>-79.315572</td>\n",
       "    </tr>\n",
       "    <tr>\n",
       "      <td>2</td>\n",
       "      <td>M5A</td>\n",
       "      <td>Downtown Toronto</td>\n",
       "      <td>Harbourfront</td>\n",
       "      <td>43.654260</td>\n",
       "      <td>-79.360636</td>\n",
       "    </tr>\n",
       "    <tr>\n",
       "      <td>3</td>\n",
       "      <td>M6A</td>\n",
       "      <td>North York</td>\n",
       "      <td>Lawrence Heights, Lawrence Manor</td>\n",
       "      <td>43.718518</td>\n",
       "      <td>-79.464763</td>\n",
       "    </tr>\n",
       "    <tr>\n",
       "      <td>4</td>\n",
       "      <td>M7A</td>\n",
       "      <td>Downtown Toronto</td>\n",
       "      <td>Queen's Park</td>\n",
       "      <td>43.662301</td>\n",
       "      <td>-79.389494</td>\n",
       "    </tr>\n",
       "  </tbody>\n",
       "</table>\n",
       "</div>"
      ],
      "text/plain": [
       "  Postalcode           Borough                      Neighborhood   Latitude  \\\n",
       "0        M3A        North York                         Parkwoods  43.753259   \n",
       "1        M4A        North York                  Victoria Village  43.725882   \n",
       "2        M5A  Downtown Toronto                      Harbourfront  43.654260   \n",
       "3        M6A        North York  Lawrence Heights, Lawrence Manor  43.718518   \n",
       "4        M7A  Downtown Toronto                      Queen's Park  43.662301   \n",
       "\n",
       "   Longitude  \n",
       "0 -79.329656  \n",
       "1 -79.315572  \n",
       "2 -79.360636  \n",
       "3 -79.464763  \n",
       "4 -79.389494  "
      ]
     },
     "execution_count": 62,
     "metadata": {},
     "output_type": "execute_result"
    }
   ],
   "source": [
    "dfnew.head()"
   ]
  },
  {
   "cell_type": "code",
   "execution_count": 63,
   "metadata": {},
   "outputs": [],
   "source": [
    "import folium "
   ]
  },
  {
   "cell_type": "code",
   "execution_count": 78,
   "metadata": {},
   "outputs": [],
   "source": [
    "mapa = folium.Map(location = [43.7001114,-79.4162979], zoom_start = 10.7)"
   ]
  },
  {
   "cell_type": "code",
   "execution_count": 79,
   "metadata": {},
   "outputs": [
    {
     "data": {
      "text/html": [
       "<div style=\"width:100%;\"><div style=\"position:relative;width:100%;height:0;padding-bottom:60%;\"><iframe src=\"data:text/html;charset=utf-8;base64,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\" style=\"position:absolute;width:100%;height:100%;left:0;top:0;border:none !important;\" allowfullscreen webkitallowfullscreen mozallowfullscreen></iframe></div></div>"
      ],
      "text/plain": [
       "<folium.folium.Map at 0x29588ca2a48>"
      ]
     },
     "execution_count": 79,
     "metadata": {},
     "output_type": "execute_result"
    }
   ],
   "source": [
    "mapa"
   ]
  },
  {
   "cell_type": "code",
   "execution_count": 80,
   "metadata": {},
   "outputs": [],
   "source": [
    "for lat, lng, borough, neighborhood in zip(dfnew['Latitude'], dfnew['Longitude'], dfnew['Borough'], dfnew['Neighborhood']):\n",
    "    label = f\"{neighborhood}, {borough}\"\n",
    "    label = folium.Popup(label, parse_html=True)\n",
    "    folium.Marker(\n",
    "        [lat, lng],\n",
    "        radius=5,\n",
    "        popup=label,\n",
    "        color='blue',\n",
    "        fill=True,\n",
    "        fill_color='#3186cc',\n",
    "        fill_opacity=0.7).add_to(mapa)  "
   ]
  },
  {
   "cell_type": "code",
   "execution_count": 81,
   "metadata": {},
   "outputs": [
    {
     "data": {
      "text/html": [
       "<div style=\"width:100%;\"><div style=\"position:relative;width:100%;height:0;padding-bottom:60%;\"><iframe src=\"data:text/html;charset=utf-8;base64,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\" style=\"position:absolute;width:100%;height:100%;left:0;top:0;border:none !important;\" allowfullscreen webkitallowfullscreen mozallowfullscreen></iframe></div></div>"
      ],
      "text/plain": [
       "<folium.folium.Map at 0x29588ca2a48>"
      ]
     },
     "execution_count": 81,
     "metadata": {},
     "output_type": "execute_result"
    }
   ],
   "source": [
    "mapa"
   ]
  }
 ],
 "metadata": {
  "kernelspec": {
   "display_name": "Python 3",
   "language": "python",
   "name": "python3"
  },
  "language_info": {
   "codemirror_mode": {
    "name": "ipython",
    "version": 3
   },
   "file_extension": ".py",
   "mimetype": "text/x-python",
   "name": "python",
   "nbconvert_exporter": "python",
   "pygments_lexer": "ipython3",
   "version": "3.7.4"
  }
 },
 "nbformat": 4,
 "nbformat_minor": 2
}
